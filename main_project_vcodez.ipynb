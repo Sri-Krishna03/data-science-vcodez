{
  "nbformat": 4,
  "nbformat_minor": 0,
  "metadata": {
    "colab": {
      "provenance": [],
      "authorship_tag": "ABX9TyNLYzkuYSKZuCcqBmah7TJM",
      "include_colab_link": true
    },
    "kernelspec": {
      "name": "python3",
      "display_name": "Python 3"
    },
    "language_info": {
      "name": "python"
    }
  },
  "cells": [
    {
      "cell_type": "markdown",
      "metadata": {
        "id": "view-in-github",
        "colab_type": "text"
      },
      "source": [
        "<a href=\"https://colab.research.google.com/github/Sri-Krishna03/data-science-vcodez/blob/main/main_project_vcodez.ipynb\" target=\"_parent\"><img src=\"https://colab.research.google.com/assets/colab-badge.svg\" alt=\"Open In Colab\"/></a>"
      ]
    },
    {
      "cell_type": "code",
      "execution_count": null,
      "metadata": {
        "id": "rNrOUmslXVqk"
      },
      "outputs": [],
      "source": []
    },
    {
      "cell_type": "code",
      "source": [
        "import os\n",
        "os.environ[\"TF_CPP_MIN_LOG_LEVEL\"] = \"2\"  # 0 = all logs, 1 = info, 2 = warnings, 3 = errors\n",
        "\n",
        "import pandas as pd\n",
        "import numpy as np\n",
        "import pickle\n",
        "import matplotlib.pyplot as plt\n",
        "from sklearn.preprocessing import MinMaxScaler, LabelEncoder\n",
        "from tensorflow.keras.models import Sequential\n",
        "from tensorflow.keras.layers import LSTM, Dense\n",
        "\n",
        "# Step 1: Load dataset\n",
        "df = pd.read_csv(\"/content/drive/MyDrive/Colab Notebooks/kalimati_tarkari_dataset.csv\")\n",
        "df[\"Date\"] = pd.to_datetime(df[\"Date\"])\n",
        "df = df.sort_values(\"Date\").reset_index(drop=True)\n",
        "\n",
        "# Encode commodity names\n",
        "le = LabelEncoder()\n",
        "df[\"Commodity_Encoded\"] = le.fit_transform(df[\"Commodity\"])\n",
        "\n",
        "# Save label encoder\n",
        "with open(\"label_encoder.pkl\", \"wb\") as f:\n",
        "    pickle.dump(le, f)\n",
        "\n",
        "# Step 2: Create sequences for all commodities\n",
        "scalers = {}\n",
        "window_size = 30\n",
        "X, y = [], []\n",
        "\n",
        "for commodity in df[\"Commodity\"].unique():\n",
        "    sub_df = df[df[\"Commodity\"] == commodity][[\"Date\", \"Average\"]].reset_index(drop=True)\n",
        "\n",
        "    # Fit scaler for this commodity\n",
        "    scaler = MinMaxScaler(feature_range=(0,1))\n",
        "    scaled_data = scaler.fit_transform(sub_df[\"Average\"].values.reshape(-1,1))\n",
        "    scalers[commodity] = scaler\n",
        "\n",
        "    # Create sequences\n",
        "    for i in range(window_size, len(scaled_data)):\n",
        "        X.append(scaled_data[i-window_size:i, 0])\n",
        "        y.append(scaled_data[i, 0])\n",
        "\n",
        "# Convert to numpy arrays\n",
        "X, y = np.array(X), np.array(y)\n",
        "X = np.reshape(X, (X.shape[0], X.shape[1], 1))  # [samples, timesteps, features]\n",
        "\n",
        "print(\"Training samples:\", X.shape)\n",
        "\n",
        "# Step 3: Build LSTM Model\n",
        "model = Sequential([\n",
        "    LSTM(50, return_sequences=True, input_shape=(X.shape[1],1)),\n",
        "    LSTM(50, return_sequences=False),\n",
        "    Dense(25),\n",
        "    Dense(1)\n",
        "])\n",
        "\n",
        "model.compile(optimizer=\"adam\", loss=\"mean_squared_error\")\n",
        "\n",
        "# Step 4: Train Model\n",
        "history = model.fit(X, y, epochs= 10, batch_size=32)\n",
        "\n",
        "# Step 5: Save Model + Scalers\n",
        "model.save(\"all_commodities_forecast.h5\")\n",
        "with open(\"scalers.pkl\", \"wb\") as f:\n",
        "    pickle.dump(scalers, f)\n",
        "\n",
        "print(\"✅ Model training completed and saved!\")\n",
        "\n",
        "# Step 6: Plot Training Loss\n",
        "plt.plot(history.history[\"loss\"], label=\"Training Loss\")\n",
        "plt.xlabel(\"Epochs\")\n",
        "plt.ylabel(\"Loss (MSE)\")\n",
        "plt.title(\"Model Training Loss\")\n",
        "plt.legend()\n",
        "plt.show()\n",
        "\n",
        "# ---------------- PREDICTION PART ---------------- #\n",
        "\n",
        "# User input for commodity\n",
        "commodity = input(\"Enter commodity name exactly as in dataset: \")\n",
        "\n",
        "if commodity not in scalers:\n",
        "    print(\"❌ Commodity not found! Try again.\")\n",
        "else:\n",
        "    sub_df = df[df[\"Commodity\"] == commodity][[\"Date\", \"Average\"]].reset_index(drop=True)\n",
        "    scaler = scalers[commodity]\n",
        "    scaled_data = scaler.transform(sub_df[\"Average\"].values.reshape(-1,1))\n",
        "\n",
        "    # Prepare sequences for prediction\n",
        "    X_pred, y_true = [], []\n",
        "    for i in range(window_size, len(scaled_data)):\n",
        "        X_pred.append(scaled_data[i-window_size:i, 0])\n",
        "        y_true.append(scaled_data[i, 0])\n",
        "\n",
        "    X_pred = np.array(X_pred).reshape(-1, window_size, 1)\n",
        "    y_true = np.array(y_true)\n",
        "\n",
        "    # Model predictions\n",
        "    pred_scaled = model.predict(X_pred)\n",
        "    pred_prices = scaler.inverse_transform(pred_scaled)\n",
        "    actual_prices = scaler.inverse_transform(y_true.reshape(-1,1))\n",
        "\n",
        "    # Plot Actual vs Predicted\n",
        "    plt.figure(figsize=(12,6))\n",
        "    plt.plot(sub_df[\"Date\"][window_size:], actual_prices, label=\"Actual Price\")\n",
        "    plt.plot(sub_df[\"Date\"][window_size:], pred_prices, label=\"Predicted Price\")\n",
        "    plt.xlabel(\"Date\")\n",
        "    plt.ylabel(\"Price\")\n",
        "    plt.title(f\"{commodity} - Actual vs Predicted Prices\")\n",
        "    plt.legend()\n",
        "    plt.show()\n",
        "\n",
        "    # Predict next-day price\n",
        "    last_window = scaled_data[-window_size:]\n",
        "    X_test = np.array([last_window]).reshape(1, window_size, 1)\n",
        "    next_day_scaled = model.predict(X_test)\n",
        "    next_day_price = scaler.inverse_transform(next_day_scaled)\n",
        "\n",
        "    print(f\"📢 Next day forecast for {commodity}: {next_day_price[0][0]:.2f}\")"
      ],
      "metadata": {
        "colab": {
          "base_uri": "https://localhost:8080/",
          "height": 926
        },
        "id": "fifdGAbaMAsx",
        "outputId": "a39adc00-56bb-4d75-e126-f06995c8a18b"
      },
      "execution_count": null,
      "outputs": [
        {
          "output_type": "stream",
          "name": "stdout",
          "text": [
            "Training samples: (193278, 30, 1)\n",
            "Epoch 1/10\n"
          ]
        },
        {
          "output_type": "stream",
          "name": "stderr",
          "text": [
            "/usr/local/lib/python3.12/dist-packages/keras/src/layers/rnn/rnn.py:199: UserWarning: Do not pass an `input_shape`/`input_dim` argument to a layer. When using Sequential models, prefer using an `Input(shape)` object as the first layer in the model instead.\n",
            "  super().__init__(**kwargs)\n"
          ]
        },
        {
          "output_type": "stream",
          "name": "stdout",
          "text": [
            "\u001b[1m6040/6040\u001b[0m \u001b[32m━━━━━━━━━━━━━━━━━━━━\u001b[0m\u001b[37m\u001b[0m \u001b[1m200s\u001b[0m 32ms/step - loss: 0.0036\n",
            "Epoch 2/10\n",
            "\u001b[1m6040/6040\u001b[0m \u001b[32m━━━━━━━━━━━━━━━━━━━━\u001b[0m\u001b[37m\u001b[0m \u001b[1m205s\u001b[0m 33ms/step - loss: 0.0025\n",
            "Epoch 3/10\n",
            "\u001b[1m6040/6040\u001b[0m \u001b[32m━━━━━━━━━━━━━━━━━━━━\u001b[0m\u001b[37m\u001b[0m \u001b[1m204s\u001b[0m 33ms/step - loss: 0.0024\n",
            "Epoch 4/10\n",
            "\u001b[1m6040/6040\u001b[0m \u001b[32m━━━━━━━━━━━━━━━━━━━━\u001b[0m\u001b[37m\u001b[0m \u001b[1m199s\u001b[0m 33ms/step - loss: 0.0025\n",
            "Epoch 5/10\n",
            "\u001b[1m6040/6040\u001b[0m \u001b[32m━━━━━━━━━━━━━━━━━━━━\u001b[0m\u001b[37m\u001b[0m \u001b[1m202s\u001b[0m 33ms/step - loss: 0.0025\n",
            "Epoch 6/10\n",
            "\u001b[1m6040/6040\u001b[0m \u001b[32m━━━━━━━━━━━━━━━━━━━━\u001b[0m\u001b[37m\u001b[0m \u001b[1m202s\u001b[0m 33ms/step - loss: 0.0025\n",
            "Epoch 7/10\n",
            "\u001b[1m6040/6040\u001b[0m \u001b[32m━━━━━━━━━━━━━━━━━━━━\u001b[0m\u001b[37m\u001b[0m \u001b[1m201s\u001b[0m 33ms/step - loss: 0.0024\n",
            "Epoch 8/10\n",
            "\u001b[1m6040/6040\u001b[0m \u001b[32m━━━━━━━━━━━━━━━━━━━━\u001b[0m\u001b[37m\u001b[0m \u001b[1m198s\u001b[0m 33ms/step - loss: 0.0024\n",
            "Epoch 9/10\n",
            "\u001b[1m6040/6040\u001b[0m \u001b[32m━━━━━━━━━━━━━━━━━━━━\u001b[0m\u001b[37m\u001b[0m \u001b[1m197s\u001b[0m 33ms/step - loss: 0.0024\n",
            "Epoch 10/10\n",
            "\u001b[1m6040/6040\u001b[0m \u001b[32m━━━━━━━━━━━━━━━━━━━━\u001b[0m\u001b[37m\u001b[0m \u001b[1m198s\u001b[0m 33ms/step - loss: 0.0024\n"
          ]
        },
        {
          "output_type": "stream",
          "name": "stderr",
          "text": [
            "WARNING:absl:You are saving your model as an HDF5 file via `model.save()` or `keras.saving.save_model(model)`. This file format is considered legacy. We recommend using instead the native Keras format, e.g. `model.save('my_model.keras')` or `keras.saving.save_model(model, 'my_model.keras')`. \n"
          ]
        },
        {
          "output_type": "stream",
          "name": "stdout",
          "text": [
            "✅ Model training completed and saved!\n"
          ]
        },
        {
          "output_type": "display_data",
          "data": {
            "text/plain": [
              "<Figure size 640x480 with 1 Axes>"
            ],
            "image/png": "[encoded data removed]"
          },
          "metadata": {}
        }
      ]
    }
  ]
}